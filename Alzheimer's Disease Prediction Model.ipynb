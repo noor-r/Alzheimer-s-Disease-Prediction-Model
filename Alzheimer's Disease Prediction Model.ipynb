{
 "cells": [
  {
   "cell_type": "markdown",
   "metadata": {},
   "source": [
    "# Data Preprocessing"
   ]
  },
  {
   "cell_type": "code",
   "execution_count": 1,
   "metadata": {
    "execution": {
     "iopub.execute_input": "2025-03-17T07:29:22.367469Z",
     "iopub.status.busy": "2025-03-17T07:29:22.367110Z",
     "iopub.status.idle": "2025-03-17T07:29:28.278994Z",
     "shell.execute_reply": "2025-03-17T07:29:28.277826Z",
     "shell.execute_reply.started": "2025-03-17T07:29:22.367432Z"
    },
    "trusted": true
   },
   "outputs": [
    {
     "name": "stdout",
     "output_type": "stream",
     "text": [
      "Class: Mild Dementia, Files Found: 5002\n",
      "Class: Moderate Dementia, Files Found: 488\n",
      "Class: Non Demented, Files Found: 67222\n",
      "Class: Very mild Dementia, Files Found: 13725\n"
     ]
    }
   ],
   "source": [
    "# Import Libraries\n",
    "import os\n",
    "import glob\n",
    "import matplotlib.pyplot as plt\n",
    "from sklearn.model_selection import train_test_split\n",
    "from PIL import Image\n",
    "import numpy as np\n",
    "\n",
    "# Define Paths\n",
    "dataset_dir = \"/kaggle/input/imagesoasis/Data\"  # Root folder containing class folders\n",
    "# Adjust class names to match actual folder names\n",
    "classes = [\"Mild Dementia\", \"Moderate Dementia\", \"Non Demented\", \"Very mild Dementia\"]\n",
    "\n",
    "# Load Data with Correct Folder Names\n",
    "image_paths, labels = [], []\n",
    "for class_label, class_name in enumerate(classes):\n",
    "    class_dir = os.path.join(dataset_dir, class_name)\n",
    "    if not os.path.exists(class_dir):\n",
    "        print(f\"Error: Folder {class_dir} does not exist.\")\n",
    "        continue\n",
    "    files = glob.glob(f\"{class_dir}/*.jpg\")  # Adjust extension if needed\n",
    "    print(f\"Class: {class_name}, Files Found: {len(files)}\")  # Debug: Count files\n",
    "    for file_path in files:\n",
    "        image_paths.append(file_path)\n",
    "        labels.append(class_label)\n",
    "\n",
    "# Proceed with the pipeline if files are found\n",
    "if len(image_paths) == 0:\n",
    "    raise ValueError(\"No images found. Check dataset folder names or file paths.\")"
   ]
  },
  {
   "cell_type": "code",
   "execution_count": null,
   "metadata": {
    "execution": {
     "iopub.execute_input": "2025-02-11T15:09:52.594752Z",
     "iopub.status.busy": "2025-02-11T15:09:52.594472Z",
     "iopub.status.idle": "2025-02-11T15:09:52.666239Z",
     "shell.execute_reply": "2025-02-11T15:09:52.66555Z",
     "shell.execute_reply.started": "2025-02-11T15:09:52.59473Z"
    },
    "trusted": true
   },
   "outputs": [],
   "source": [
    "# Split Dataset\n",
    "train_paths, test_paths, train_labels, test_labels = train_test_split(\n",
    "    image_paths, labels, test_size=0.2, random_state=42, stratify=labels\n",
    ")\n",
    "\n",
    "print(f\"Total images: {len(image_paths)}\")\n",
    "print(f\"Training images: {len(train_paths)}, Testing images: {len(test_paths)}\")"
   ]
  },
  {
   "cell_type": "code",
   "execution_count": null,
   "metadata": {
    "execution": {
     "iopub.execute_input": "2025-02-11T15:10:11.67048Z",
     "iopub.status.busy": "2025-02-11T15:10:11.670209Z",
     "iopub.status.idle": "2025-02-11T15:10:24.097128Z",
     "shell.execute_reply": "2025-02-11T15:10:24.096227Z",
     "shell.execute_reply.started": "2025-02-11T15:10:11.67046Z"
    },
    "trusted": true
   },
   "outputs": [],
   "source": [
    "import tensorflow as tf\n",
    "from tensorflow.keras.preprocessing.image import ImageDataGenerator\n",
    "from sklearn.preprocessing import LabelBinarizer\n",
    "\n",
    "# Normalize image paths and labels\n",
    "train_paths = np.array(train_paths)\n",
    "test_paths = np.array(test_paths)\n",
    "\n",
    "# One-hot encode the labels\n",
    "label_binarizer = LabelBinarizer()\n",
    "train_labels = label_binarizer.fit_transform(train_labels)\n",
    "test_labels = label_binarizer.transform(test_labels)\n",
    "\n",
    "# Preprocessing Function for Images\n",
    "IMG_HEIGHT, IMG_WIDTH = 224, 224\n",
    "\n",
    "def preprocess_image(image_path):\n",
    "    image = tf.io.read_file(image_path)\n",
    "    image = tf.image.decode_jpeg(image, channels=3)\n",
    "    image = tf.image.resize(image, [IMG_HEIGHT, IMG_WIDTH])\n",
    "    image = image / 255.0  # Normalize to [0, 1]\n",
    "    return image\n",
    "\n",
    "# Load Dataset\n",
    "def load_dataset(image_paths, labels):\n",
    "    dataset = tf.data.Dataset.from_tensor_slices((image_paths, labels))\n",
    "    dataset = dataset.map(lambda x, y: (preprocess_image(x), y))\n",
    "    return dataset\n",
    "\n",
    "# Prepare Train and Test Datasets\n",
    "train_dataset = load_dataset(train_paths, train_labels)\n",
    "test_dataset = load_dataset(test_paths, test_labels)\n",
    "\n",
    "# Batch and Shuffle the Datasets\n",
    "BATCH_SIZE = 32\n",
    "train_dataset = train_dataset.shuffle(buffer_size=1000).batch(BATCH_SIZE).prefetch(tf.data.AUTOTUNE)\n",
    "test_dataset = test_dataset.batch(BATCH_SIZE).prefetch(tf.data.AUTOTUNE)\n"
   ]
  },
  {
   "cell_type": "markdown",
   "metadata": {},
   "source": [
    "# Model Training"
   ]
  },
  {
   "cell_type": "code",
   "execution_count": null,
   "metadata": {
    "execution": {
     "iopub.execute_input": "2025-02-11T15:10:42.897927Z",
     "iopub.status.busy": "2025-02-11T15:10:42.897351Z",
     "iopub.status.idle": "2025-02-11T15:10:44.261378Z",
     "shell.execute_reply": "2025-02-11T15:10:44.260723Z",
     "shell.execute_reply.started": "2025-02-11T15:10:42.897893Z"
    },
    "trusted": true
   },
   "outputs": [],
   "source": [
    "from tensorflow.keras import layers, models\n",
    "\n",
    "def build_model():\n",
    "    model = models.Sequential([\n",
    "        layers.Conv2D(32, (3, 3), activation='relu', input_shape=(IMG_HEIGHT, IMG_WIDTH, 3)),\n",
    "        layers.MaxPooling2D((2, 2)),\n",
    "        layers.Conv2D(64, (3, 3), activation='relu'),\n",
    "        layers.MaxPooling2D((2, 2)),\n",
    "        layers.Conv2D(128, (3, 3), activation='relu'),\n",
    "        layers.MaxPooling2D((2, 2)),\n",
    "        layers.Flatten(),\n",
    "        layers.Dense(128, activation='relu'),\n",
    "        layers.Dropout(0.5),\n",
    "        layers.Dense(len(classes), activation='softmax')  # Number of classes\n",
    "    ])\n",
    "    return model\n",
    "\n",
    "model = build_model()\n",
    "model.summary()\n"
   ]
  },
  {
   "cell_type": "code",
   "execution_count": null,
   "metadata": {
    "execution": {
     "iopub.execute_input": "2025-02-11T15:11:04.132458Z",
     "iopub.status.busy": "2025-02-11T15:11:04.132179Z",
     "iopub.status.idle": "2025-02-11T15:26:53.188167Z",
     "shell.execute_reply": "2025-02-11T15:26:53.187043Z",
     "shell.execute_reply.started": "2025-02-11T15:11:04.132438Z"
    },
    "trusted": true
   },
   "outputs": [],
   "source": [
    "from tensorflow.keras.optimizers import Adam\n",
    "\n",
    "# Compile the Model\n",
    "model.compile(optimizer=Adam(learning_rate=0.001),\n",
    "              loss='categorical_crossentropy',\n",
    "              metrics=['accuracy'])\n",
    "\n",
    "# Train the Model\n",
    "EPOCHS = 10\n",
    "history = model.fit(\n",
    "    train_dataset,\n",
    "    validation_data=test_dataset,\n",
    "    epochs=EPOCHS\n",
    ")\n",
    "\n",
    "# Save the Model\n",
    "model.save(\"alzheimers_detection_model.h5\")\n"
   ]
  },
  {
   "cell_type": "markdown",
   "metadata": {},
   "source": [
    "# Evaluation"
   ]
  },
  {
   "cell_type": "code",
   "execution_count": null,
   "metadata": {
    "execution": {
     "iopub.execute_input": "2025-02-11T15:34:21.227842Z",
     "iopub.status.busy": "2025-02-11T15:34:21.227524Z",
     "iopub.status.idle": "2025-02-11T15:34:32.515139Z",
     "shell.execute_reply": "2025-02-11T15:34:32.514279Z",
     "shell.execute_reply.started": "2025-02-11T15:34:21.227815Z"
    },
    "trusted": true
   },
   "outputs": [],
   "source": [
    "# Plot Accuracy and Loss\n",
    "import matplotlib.pyplot as plt\n",
    "\n",
    "loss, accuracy = model.evaluate(test_dataset)\n",
    "print(f\"Test Loss: {loss:.4f}, Test Accuracy: {accuracy:.4f}\")\n",
    "\n",
    "def plot_history(history):\n",
    "    plt.figure(figsize=(12, 4))\n",
    "    # Accuracy Plot\n",
    "    plt.subplot(1, 2, 1)\n",
    "    plt.plot(history.history['accuracy'], label='Training Accuracy')\n",
    "    plt.plot(history.history['val_accuracy'], label='Validation Accuracy')\n",
    "    plt.legend()\n",
    "    plt.title('Accuracy')\n",
    "    # Loss Plot\n",
    "    plt.subplot(1, 2, 2)\n",
    "    plt.plot(history.history['loss'], label='Training Loss')\n",
    "    plt.plot(history.history['val_loss'], label='Validation Loss')\n",
    "    plt.legend()\n",
    "    plt.title('Loss')\n",
    "    plt.show()\n",
    "\n",
    "plot_history(history)"
   ]
  },
  {
   "cell_type": "code",
   "execution_count": null,
   "metadata": {
    "execution": {
     "iopub.execute_input": "2025-02-11T15:39:07.128297Z",
     "iopub.status.busy": "2025-02-11T15:39:07.127979Z",
     "iopub.status.idle": "2025-02-11T15:39:18.489545Z",
     "shell.execute_reply": "2025-02-11T15:39:18.488591Z",
     "shell.execute_reply.started": "2025-02-11T15:39:07.128273Z"
    },
    "trusted": true
   },
   "outputs": [],
   "source": [
    "from sklearn.metrics import classification_report, confusion_matrix\n",
    "import numpy as np\n",
    "import seaborn as sns\n",
    "\n",
    "y_true = np.argmax(test_labels, axis=1)\n",
    "predictions = model.predict(test_dataset)\n",
    "y_pred = np.argmax(predictions, axis=1)\n",
    "\n",
    "# Classification Report\n",
    "class_names = classes\n",
    "print(\"Classification Report:\")\n",
    "print(classification_report(y_true, y_pred, target_names=class_names))\n",
    "\n",
    "# Confusion Matrix\n",
    "plt.figure(figsize=(10, 8))\n",
    "cm = confusion_matrix(y_true, y_pred)\n",
    "sns.heatmap(cm, annot=True, fmt='d', cmap='Blues', xticklabels=class_names, yticklabels=class_names)\n",
    "plt.title('Confusion Matrix')\n",
    "plt.xlabel('Predicted')\n",
    "plt.ylabel('True')\n",
    "plt.show()"
   ]
  },
  {
   "cell_type": "markdown",
   "metadata": {},
   "source": [
    "# Testing"
   ]
  },
  {
   "cell_type": "code",
   "execution_count": null,
   "metadata": {
    "execution": {
     "iopub.execute_input": "2025-02-11T15:36:54.348659Z",
     "iopub.status.busy": "2025-02-11T15:36:54.348377Z",
     "iopub.status.idle": "2025-02-11T15:36:54.690228Z",
     "shell.execute_reply": "2025-02-11T15:36:54.689446Z",
     "shell.execute_reply.started": "2025-02-11T15:36:54.348634Z"
    },
    "trusted": true
   },
   "outputs": [],
   "source": [
    "from tensorflow.keras.models import load_model\n",
    "import numpy as np\n",
    "import matplotlib.pyplot as plt\n",
    "\n",
    "# Testing on a Single Image\n",
    "test_image_path = r'/kaggle/input/imagesoasis/Data/Moderate Dementia/OAS1_0308_MR1_mpr-1_105.jpg'\n",
    "test_image = preprocess_image(test_image_path)\n",
    "test_image = tf.expand_dims(test_image, axis=0)  # Adding batch dimension\n",
    "\n",
    "prediction = model.predict(test_image)\n",
    "predicted_class = label_binarizer.inverse_transform(prediction)[0]\n",
    "print(f\"Predicted Class: {predicted_class}\")\n",
    "\n",
    "if predicted_class==0:\n",
    "    pred_label=\"Mild Dementia\"\n",
    "elif predicted_class==1:\n",
    "    pred_label=\"Moderate Dementia\"\n",
    "elif predicted_class==2:\n",
    "    pred_label=\"Non Demented\"\n",
    "else:\n",
    "    pred_label=\"Very Mild Dementia\"\n",
    "\n",
    "# Display Image + Prediction\n",
    "plt.imshow(plt.imread(test_image_path))\n",
    "plt.title(f\"Predicted Class: {predicted_class}, Predicted Label: {pred_label}\")\n",
    "plt.axis('off')\n",
    "plt.show()\n"
   ]
  }
 ],
 "metadata": {
  "kaggle": {
   "accelerator": "gpu",
   "dataSources": [
    {
     "datasetId": 3419493,
     "sourceId": 5962731,
     "sourceType": "datasetVersion"
    }
   ],
   "dockerImageVersionId": 30886,
   "isGpuEnabled": true,
   "isInternetEnabled": false,
   "language": "python",
   "sourceType": "notebook"
  },
  "kernelspec": {
   "display_name": "Python 3",
   "language": "python",
   "name": "python3"
  },
  "language_info": {
   "codemirror_mode": {
    "name": "ipython",
    "version": 3
   },
   "file_extension": ".py",
   "mimetype": "text/x-python",
   "name": "python",
   "nbconvert_exporter": "python",
   "pygments_lexer": "ipython3",
   "version": "3.10.12"
  }
 },
 "nbformat": 4,
 "nbformat_minor": 4
}
